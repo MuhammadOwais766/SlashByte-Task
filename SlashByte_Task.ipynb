{
 "cells": [
  {
   "cell_type": "code",
   "execution_count": 20,
   "id": "54b4a9ba",
   "metadata": {},
   "outputs": [],
   "source": [
    "import requests\n",
    "import json\n",
    " \n",
    "url = \"https://api.scrape-it.cloud/scrape\"\n",
    " \n",
    "payload = json.dumps({\n",
    "  \"extract_rules\": {\n",
    "    \"address\": \"address\",\n",
    "    \"price\": \"[data-test=property-card-price]\",\n",
    "    \"seller\": \"div.cWiizR\"\n",
    "  },\n",
    "  \"wait\": 0,\n",
    "  \"screenshot\": True,\n",
    "  \"block_resources\": False,\n",
    "  \"url\": \"https://www.zillow.com/Los-Angeles-CA/\"\n",
    "})\n",
    "headers = {\n",
    "  'x-api-key': '25bdac17-65d5-491e-8f71-b85e4a202ae5',\n",
    "  'Content-Type': 'application/json'\n",
    "}\n",
    "response = requests.request(\"POST\", url, headers=headers, data=payload)"
   ]
  },
  {
   "cell_type": "code",
   "execution_count": 21,
   "id": "fb916e66",
   "metadata": {},
   "outputs": [],
   "source": [
    "data = json.loads(response.text)"
   ]
  },
  {
   "cell_type": "code",
   "execution_count": 23,
   "id": "2ce9d7ef",
   "metadata": {},
   "outputs": [],
   "source": [
    "address = []\n",
    "price = []\n",
    "seller = []\n",
    " \n",
    "for item in data[\"scrapingResult\"][\"extractedData\"][\"address\"]:\n",
    "    address.append(item)\n",
    "for item in data[\"scrapingResult\"][\"extractedData\"][\"price\"]:\n",
    "    price.append(item)"
   ]
  },
  {
   "cell_type": "code",
   "execution_count": 24,
   "id": "3cd50f8b",
   "metadata": {},
   "outputs": [],
   "source": [
    " with open(\"results.csv\", \"w\") as f:\n",
    "    f.write(\"Address; Price; Seller\\n\")\n",
    "for i in range(len(address)):\n",
    "    with open(\"result.csv\", \"a\") as f:\n",
    "        f.write(str(address[i])+\"; \"+str(price[i])+\"\\n\")"
   ]
  },
  {
   "cell_type": "code",
   "execution_count": null,
   "id": "9827e400",
   "metadata": {},
   "outputs": [],
   "source": []
  }
 ],
 "metadata": {
  "kernelspec": {
   "display_name": "Python 3 (ipykernel)",
   "language": "python",
   "name": "python3"
  },
  "language_info": {
   "codemirror_mode": {
    "name": "ipython",
    "version": 3
   },
   "file_extension": ".py",
   "mimetype": "text/x-python",
   "name": "python",
   "nbconvert_exporter": "python",
   "pygments_lexer": "ipython3",
   "version": "3.11.5"
  }
 },
 "nbformat": 4,
 "nbformat_minor": 5
}
